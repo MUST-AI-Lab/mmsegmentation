{
 "cells": [
  {
   "cell_type": "code",
   "execution_count": 1,
   "id": "8fe611cf",
   "metadata": {},
   "outputs": [
    {
     "name": "stdout",
     "output_type": "stream",
     "text": [
      "/disk1/zzl/mmsegmentation\n"
     ]
    }
   ],
   "source": [
    "cd /disk1/zzl/mmsegmentation"
   ]
  },
  {
   "cell_type": "code",
   "execution_count": 2,
   "id": "40280650",
   "metadata": {},
   "outputs": [
    {
     "name": "stdout",
     "output_type": "stream",
     "text": [
      "[master 3c0b40c] shut down email sender\n",
      " 33 files changed, 21176 insertions(+), 706 deletions(-)\n",
      " create mode 100644 configs/_base_/models/fcn_unet_s5-d16_noAux.py\n",
      " rename configs/unet/{fcn_unet_r5-d16_640x640_80k_camvid.py => fcn_unet_r5-d16_640x640_160k_camvid.py} (58%)\n",
      " create mode 100644 configs/unet/fcn_unet_r5-d16_640x640_CPS_160k_camvid.py\n",
      " create mode 100644 configs/unet/fcn_unet_r5-d16_640x640_DML_160k_camvid.py\n",
      " create mode 100644 configs/unet/fcn_unet_s5-d16_64x64_CPS_40k_drive.py\n",
      " create mode 100644 configs/unet/fcn_unet_s5-d16_64x64_DML_40k_drive.py\n",
      " create mode 100644 ipynb/DML_camvid.ipynb\n",
      " create mode 100644 ipynb/unet_DRIVE.ipynb\n",
      " create mode 100644 ipynb/unet_HRF.ipynb\n",
      " rename ipynb/{Untitled.ipynb => unet_chase_db1.ipynb} (91%)\n",
      " rename ipynb/{stare_unet.ipynb => unet_stare.ipynb} (99%)\n",
      " create mode 100644 mmseg/models/losses/kl_divergence.py\n",
      " create mode 100644 mmseg/models/segmentors/CPS_old.py\n",
      " create mode 100644 mmseg/models/segmentors/CPS_sup.py\n",
      " create mode 100644 mmseg/models/segmentors/DML.py\n",
      "warning: push.default is unset; its implicit value has changed in\n",
      "Git 2.0 from 'matching' to 'simple'. To squelch this message\n",
      "and maintain the traditional behavior, use:\n",
      "\n",
      "  git config --global push.default matching\n",
      "\n",
      "To squelch this message and adopt the new behavior now, use:\n",
      "\n",
      "  git config --global push.default simple\n",
      "\n",
      "When push.default is set to 'matching', git will push local branches\n",
      "to the remote branches that already exist with the same name.\n",
      "\n",
      "Since Git 2.0, Git defaults to the more conservative 'simple'\n",
      "behavior, which only pushes the current branch to the corresponding\n",
      "remote branch that 'git pull' uses to update the current branch.\n",
      "\n",
      "See 'git help config' and search for 'push.default' for further information.\n",
      "(the 'simple' mode was introduced in Git 1.7.11. Use the similar mode\n",
      "'current' instead of 'simple' if you sometimes use older versions of Git)\n",
      "\n",
      "Counting objects: 51, done.\n",
      "Delta compression using up to 16 threads.\n",
      "Compressing objects: 100% (51/51), done.\n",
      "Writing objects: 100% (51/51), 593.38 KiB | 0 bytes/s, done.\n",
      "Total 51 (delta 39), reused 0 (delta 0)\n",
      "remote: Resolving deltas: 100% (39/39), completed with 29 local objects.\u001b[K\n",
      "To git@github.com:MUST-AI-Lab/mmsegmentation.git\n",
      "   ce5fcc3..3c0b40c  master -> master\n"
     ]
    }
   ],
   "source": [
    "!git add ./\n",
    "!git commit -m \"shut down email sender\"\n",
    "!git push"
   ]
  },
  {
   "cell_type": "code",
   "execution_count": 3,
   "id": "b9851c0b",
   "metadata": {},
   "outputs": [
    {
     "name": "stdout",
     "output_type": "stream",
     "text": [
      "Already up-to-date.\n"
     ]
    }
   ],
   "source": [
    "!git pull\n"
   ]
  },
  {
   "cell_type": "code",
   "execution_count": null,
   "id": "47703850",
   "metadata": {},
   "outputs": [],
   "source": []
  }
 ],
 "metadata": {
  "kernelspec": {
   "display_name": "Python 3",
   "language": "python",
   "name": "python3"
  },
  "language_info": {
   "codemirror_mode": {
    "name": "ipython",
    "version": 3
   },
   "file_extension": ".py",
   "mimetype": "text/x-python",
   "name": "python",
   "nbconvert_exporter": "python",
   "pygments_lexer": "ipython3",
   "version": "3.8.12"
  }
 },
 "nbformat": 4,
 "nbformat_minor": 5
}
